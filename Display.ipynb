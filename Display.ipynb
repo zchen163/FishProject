{
 "cells": [
  {
   "cell_type": "code",
   "execution_count": 1,
   "metadata": {},
   "outputs": [],
   "source": [
    "import cv2\n",
    "import numpy as np\n",
    "from scipy.ndimage import rotate\n",
    "from os import listdir\n",
    "from os.path import isfile, join\n",
    "from pathlib import Path\n",
    "import matplotlib.pyplot as plt\n",
    "from skimage.filters import gaussian\n",
    "from skimage.segmentation import active_contour"
   ]
  },
  {
   "cell_type": "code",
   "execution_count": null,
   "metadata": {},
   "outputs": [],
   "source": [
    "def ToBNW(image_path, fx = 1, ksize = 5):\n",
    "    image = cv2.imread(image_path)\n",
    "    # image = cv2.resize(image, dsize = (1224, 918))\n",
    "    if fx != 1:\n",
    "        image = cv2.resize(image, None, fx = fx, fy = fx)\n",
    "\n",
    "    hsv = cv2.cvtColor(image, cv2.COLOR_BGR2HSV)\n",
    "\n",
    "    ## mask of green (36,0,0) ~ (70, 255,255), mask o yellow (15,0,0) ~ (36, 255, 255)\n",
    "    rgbmask = cv2.inRange(image, (80,50,50), (200, 200, 200))\n",
    "    rgbmask = cv2.medianBlur(rgbmask, ksize = 3)\n",
    "    hsv0 = cv2.inRange(hsv, (0,0,50), (100, 250, 250))\n",
    "\n",
    "    rgb1 = np.copy(rgbmask).astype(np.uint8)\n",
    "    hsv1 = np.copy(hsv0).astype(np.int)\n",
    "    hsv2 = np.abs(255 - hsv1)\n",
    "\n",
    "    combine = np.uint8((hsv2 + rgb1)/2)\n",
    "    combine[combine < 130] = 0\n",
    "    mask = cv2.medianBlur(combine, ksize = ksize)\n",
    "    edge = cv2.Canny(mask, 100, 200)\n",
    "\n",
    "    return combine"
   ]
  },
  {
   "cell_type": "code",
   "execution_count": 18,
   "metadata": {},
   "outputs": [],
   "source": [
    "def ToBNW2(fname, fx = 1, ksize = 3): \n",
    "    image = cv2.imread(fname)\n",
    "    \n",
    "    if fx != 1:\n",
    "        image = cv2.resize(image, None, fx = fx, fy = fx)\n",
    "        \n",
    "    hsv = cv2.cvtColor(image, cv2.COLOR_BGR2HSV)\n",
    "    sat = hsv[:, :, 1]\n",
    "    sat = cv2.medianBlur(sat, ksize = ksize)\n",
    "    sat1 = cv2.inRange(sat, (0), (60))/255\n",
    "    rmask = cv2.inRange(image[:, :, 0], (100), (255))/255\n",
    "#     print(sat1.dtype)\n",
    "    out = (np.abs(1-sat1) + rmask)*255/2\n",
    "#     plt.imshow(out, cmap = plt.cm.gray)\n",
    "#     out = cv2.medianBlur(out, ksize = ksize)\n",
    "    return np.uint8(out)"
   ]
  },
  {
   "cell_type": "code",
   "execution_count": 19,
   "metadata": {},
   "outputs": [],
   "source": [
    "def match1(image, temp0, slow=0.7, shigh=1.3, method = cv2.TM_CCORR_NORMED):\n",
    "    # get flipped image\n",
    "    best_match_score = 0\n",
    "    image1 = np.copy(image)\n",
    "    image1_flip = cv2.flip(image1, 1)\n",
    "    # change template sizes\n",
    "    for s in np.arange(slow, shigh, 0.05):\n",
    "        temp = cv2.resize(temp0, None, fx = s, fy = s)\n",
    "        # search for angles\n",
    "        for i in [-3, -2, -1, 0, 1, 2, 3, 15, 16, 17, 18, 19, 20, 21]:\n",
    "        # for i in range(0, 36):\n",
    "        #     # the rotate takes angle in degrees\n",
    "            img_rot = rotate(image1, 10 * i, mode = 'constant', reshape = False, cval = 0)\n",
    "            img_rotflip = rotate(image1_flip, 10 * i, mode = 'constant', reshape = False, cval = 0)\n",
    "            res_rot = cv2.matchTemplate(img_rot, temp, method)\n",
    "            res_rotflip = cv2.matchTemplate(img_rotflip, temp, method)\n",
    "            if res_rot.max() >= best_match_score:\n",
    "                best_match_score = res_rot.max()\n",
    "                res = res_rot\n",
    "                best_img = img_rot\n",
    "                info = ('rot', i, s, temp, best_img)\n",
    "            elif res_rotflip.max() >= best_match_score:\n",
    "                best_match_score = res_rotflip.max()\n",
    "                res = res_rotflip\n",
    "                best_img = img_rotflip\n",
    "                info = ('rotflip', i, s, temp, best_img)\n",
    "    return best_match_score, res, info"
   ]
  },
  {
   "cell_type": "code",
   "execution_count": 20,
   "metadata": {},
   "outputs": [],
   "source": [
    "def rotation1(fname):\n",
    "    temp1 = ToBNW2('../data/templates/1.png', fx = 1, ksize = 3)\n",
    "    temp2 = ToBNW2('../data/templates/2.png', fx = 1, ksize = 3)\n",
    "    temp3 = ToBNW2('../data/templates/3.png', fx = 1, ksize = 3)\n",
    "    temp4 = ToBNW2('../data/templates/4.png', fx = 1, ksize = 3)\n",
    "\n",
    "    templst = [temp1, temp2, temp3, temp4]\n",
    "    image = ToBNW2(fname, fx = 1, ksize = 5)\n",
    "\n",
    "    H, W = image.shape[0:2]\n",
    "    # start template matching, and look for different angles:\n",
    "    best_match_score = 0\n",
    "    res = None\n",
    "    # all available methods: methods = ['cv2.TM_CCOEFF', 'cv2.TM_CCOEFF_NORMED', 'cv2.TM_CCORR', 'cv2.TM_CCORR_NORMED', 'cv2.TM_SQDIFF', 'cv2.TM_SQDIFF_NORMED']\n",
    "    method = cv2.TM_CCORR_NORMED\n",
    "\n",
    "    scorelst, reslst, infolst = [], [], []\n",
    "\n",
    "    score1, res1, info1 = match1(image, temp1, slow=0.75, shigh=1.3)\n",
    "    scorelst.append(score1)\n",
    "    reslst.append(res1)\n",
    "    infolst.append(info1)\n",
    "    \n",
    "    score2, res2, info2 = match1(image, temp2, slow=0.75, shigh=1.3)\n",
    "    scorelst.append(score2)\n",
    "    reslst.append(res2)\n",
    "    infolst.append(info2)\n",
    "    \n",
    "    score3, res3, info3 = match1(image, temp3, slow=0.75, shigh=1.2)\n",
    "    scorelst.append(score3)\n",
    "    reslst.append(res3)\n",
    "    infolst.append(info3)\n",
    "    \n",
    "    score4, res4, info4 = match1(image, temp3, slow=0.75, shigh=1.2)\n",
    "    scorelst.append(score4)\n",
    "    reslst.append(res4)\n",
    "    infolst.append(info4)\n",
    "\n",
    "    idx = np.array(scorelst).argmax()\n",
    "    print(scorelst, idx)\n",
    "    manual = None\n",
    "    if scorelst[idx] < 0.91:\n",
    "        print('This Sample need manual processing! ')\n",
    "        print('---------')\n",
    "        manual = fname\n",
    "    h, w = infolst[idx][3].shape[0:2]\n",
    "\n",
    "    # plot best image orientation\n",
    "    best = cv2.imread(fname)\n",
    "    if infolst[idx][0] == 'rotflip':\n",
    "        best = cv2.flip(best, 1)\n",
    "    best = rotate(best, 10 * infolst[idx][1], mode = 'constant', reshape = False, cval = 0)\n",
    "\n",
    "    loc = np.unravel_index(reslst[idx].argmax(), reslst[idx].shape)\n",
    "\n",
    "    # get the corresponding window\n",
    "    cornerr = loc[0]\n",
    "    cornerc = loc[1]\n",
    "    window = best[cornerr:cornerr+h, cornerc:cornerc+w, :]\n",
    "#     window = best[np.max(0, cornerr-20):np.min(best.shape[0], cornerr+h+20), np.max(0, cornerc-20): np.min(best.shape[1], cornerc+w+20), :]\n",
    "    print(window.shape, 'window shape')\n",
    "    return best, window, manual"
   ]
  },
  {
   "cell_type": "code",
   "execution_count": 22,
   "metadata": {},
   "outputs": [
    {
     "name": "stdout",
     "output_type": "stream",
     "text": [
      "(67, 225)\n"
     ]
    }
   ],
   "source": [
    "fname = '../data/CC Lake slice/DSC00902.jpg'\n",
    "temp1 = ToBNW2('../data/templates/1.png', fx = 1, ksize = 3)\n",
    "temp2 = ToBNW2('../data/templates/2.png', fx = 1, ksize = 3)\n",
    "temp3 = ToBNW2('../data/templates/3.png', fx = 1, ksize = 3)\n",
    "temp4 = ToBNW2('../data/templates/4.png', fx = 1, ksize = 3)\n",
    "templst = [temp1, temp2, temp3, temp4]\n",
    "image = ToBNW2(fname, fx = 1, ksize = 5)\n",
    "\n",
    "H, W = image.shape[0:2]\n",
    "method = cv2.TM_CCORR_NORMED\n",
    "\n",
    "scorelst, reslst, infolst = [], [], []\n",
    "score1, res1, info1 = match1(image, temp1, slow=0.75, shigh=1.20)\n",
    "scorelst.append(score1)\n",
    "reslst.append(res1)\n",
    "infolst.append(info1)\n",
    "\n",
    "score2, res2, info2 = match1(image, temp2, slow=0.75, shigh=1.20)\n",
    "scorelst.append(score2)\n",
    "reslst.append(res2)\n",
    "infolst.append(info2)\n",
    "\n",
    "score3, res3, info3 = match1(image, temp3, slow=0.75, shigh=1.20)\n",
    "scorelst.append(score3)\n",
    "reslst.append(res3)\n",
    "infolst.append(info3)\n",
    "\n",
    "score4, res4, info4 = match1(image, temp3, slow=0.75, shigh=1.20)\n",
    "scorelst.append(score4)\n",
    "reslst.append(res4)\n",
    "infolst.append(info4)\n",
    "\n",
    "idx = np.array(scorelst).argmax()\n",
    "\n",
    "loc = np.unravel_index(reslst[idx].argmax(), reslst[idx].shape)\n",
    "print(loc)\n",
    "    # print(info[3].shape, 'temp w and h', w, h, 'image W and H', W, H)\n",
    "    # # # print(info)\n",
    "    # get the corresponding window\n"
   ]
  },
  {
   "cell_type": "code",
   "execution_count": null,
   "metadata": {},
   "outputs": [],
   "source": [
    "'''info = rot, i, s, temp, best_img'''\n",
    "cornerr = loc[0]\n",
    "cornerc = loc[1]\n",
    "# image_out = np.copy(image)\n",
    "# image_out = cv2.circle(image_out, (cornerc, cornerr), radius=5, color=(0, 0, 255), thickness=1)\n",
    "# image_out = cv2.circle(image_out, (cornerc + w, cornerr + h), radius=5, color=(0, 0, 255), thickness=-1)\n",
    "print(infolst[idx])\n",
    "\n",
    "info = infolst[idx]\n",
    "best = np.copy(image)\n",
    "s = info[2]\n",
    "best_temp = info[3]\n",
    "h, w = best_temp.shape\n",
    "best_img = info[4]\n",
    "print(best_temp.shape, best_img.shape)\n",
    "best_img_overlaid = np.copy(best_img)\n",
    "best_img_overlaid[cornerr:cornerr+h, cornerc:cornerc+w] = best_temp"
   ]
  },
  {
   "cell_type": "code",
   "execution_count": null,
   "metadata": {
    "scrolled": false
   },
   "outputs": [],
   "source": [
    "f, (ax1, ax2, ax3) = plt.subplots(3, 1)\n",
    "ax1.imshow(best_temp, cmap=plt.cm.gray)\n",
    "ax2.imshow(best_img, cmap=plt.cm.gray)\n",
    "ax3.imshow(best_img_overlaid, cmap=plt.cm.gray)\n"
   ]
  },
  {
   "cell_type": "code",
   "execution_count": 15,
   "metadata": {},
   "outputs": [],
   "source": [
    "def test():\n",
    "    path_oriented = \"../data/CC Lake oriented/9/\"\n",
    "    path_extracted = \"../data/CC Lake extracted/6/\"\n",
    "    Path(path_oriented).mkdir(parents=True, exist_ok=True)\n",
    "    Path(path_extracted).mkdir(parents=True, exist_ok=True)\n",
    "    onlyfiles = [f for f in listdir('../data/CC Lake slice/') if isfile(join('../data/CC Lake slice/', f))]\n",
    "    # print(onlyfiles)\n",
    "    examples = ['DSC00896.jpg', 'DSC00897.jpg', 'DSC00914.jpg', 'DSC00922.jpg', 'DSC00949.jpg', 'DSC00959.jpg']\n",
    "    \n",
    "    manuallst = []\n",
    "#     for f in examples[:]:\n",
    "    for f in onlyfiles:\n",
    "        fname = join('../data/CC Lake slice/', f)\n",
    "        print('----Now working on ----')\n",
    "        print(f)\n",
    "        best, window, manual = rotation1(fname)\n",
    "        cv2.imwrite(join(path_oriented, f), best)\n",
    "        cv2.imwrite(join(path_extracted, f), window)\n",
    "        if manual is not None:\n",
    "            manuallst.append(manual)\n",
    "    print('Please process the following samples manually: ')\n",
    "    for j in manuallst:\n",
    "        print(j)"
   ]
  },
  {
   "cell_type": "code",
   "execution_count": 16,
   "metadata": {
    "scrolled": true
   },
   "outputs": [
    {
     "name": "stdout",
     "output_type": "stream",
     "text": [
      "----Now working on ----\n",
      "DSC00839.JPG\n",
      "[0.9911255, 0.922699, 0.9102421, 0.9102421] 0\n",
      "(110, 470, 3) window shape\n",
      "----Now working on ----\n",
      "DSC00840.JPG\n"
     ]
    },
    {
     "ename": "KeyboardInterrupt",
     "evalue": "",
     "output_type": "error",
     "traceback": [
      "\u001b[1;31m---------------------------------------------------------------------------\u001b[0m",
      "\u001b[1;31mKeyboardInterrupt\u001b[0m                         Traceback (most recent call last)",
      "\u001b[1;32m~\\AppData\\Local\\Temp\\1/ipykernel_12148/756179265.py\u001b[0m in \u001b[0;36m<module>\u001b[1;34m\u001b[0m\n\u001b[1;32m----> 1\u001b[1;33m \u001b[0mtest\u001b[0m\u001b[1;33m(\u001b[0m\u001b[1;33m)\u001b[0m\u001b[1;33m\u001b[0m\u001b[1;33m\u001b[0m\u001b[0m\n\u001b[0m",
      "\u001b[1;32m~\\AppData\\Local\\Temp\\1/ipykernel_12148/3513842055.py\u001b[0m in \u001b[0;36mtest\u001b[1;34m()\u001b[0m\n\u001b[0;32m     14\u001b[0m         \u001b[0mprint\u001b[0m\u001b[1;33m(\u001b[0m\u001b[1;34m'----Now working on ----'\u001b[0m\u001b[1;33m)\u001b[0m\u001b[1;33m\u001b[0m\u001b[1;33m\u001b[0m\u001b[0m\n\u001b[0;32m     15\u001b[0m         \u001b[0mprint\u001b[0m\u001b[1;33m(\u001b[0m\u001b[0mf\u001b[0m\u001b[1;33m)\u001b[0m\u001b[1;33m\u001b[0m\u001b[1;33m\u001b[0m\u001b[0m\n\u001b[1;32m---> 16\u001b[1;33m         \u001b[0mbest\u001b[0m\u001b[1;33m,\u001b[0m \u001b[0mwindow\u001b[0m\u001b[1;33m,\u001b[0m \u001b[0mmanual\u001b[0m \u001b[1;33m=\u001b[0m \u001b[0mrotation1\u001b[0m\u001b[1;33m(\u001b[0m\u001b[0mfname\u001b[0m\u001b[1;33m)\u001b[0m\u001b[1;33m\u001b[0m\u001b[1;33m\u001b[0m\u001b[0m\n\u001b[0m\u001b[0;32m     17\u001b[0m         \u001b[0mcv2\u001b[0m\u001b[1;33m.\u001b[0m\u001b[0mimwrite\u001b[0m\u001b[1;33m(\u001b[0m\u001b[0mjoin\u001b[0m\u001b[1;33m(\u001b[0m\u001b[0mpath_oriented\u001b[0m\u001b[1;33m,\u001b[0m \u001b[0mf\u001b[0m\u001b[1;33m)\u001b[0m\u001b[1;33m,\u001b[0m \u001b[0mbest\u001b[0m\u001b[1;33m)\u001b[0m\u001b[1;33m\u001b[0m\u001b[1;33m\u001b[0m\u001b[0m\n\u001b[0;32m     18\u001b[0m         \u001b[0mcv2\u001b[0m\u001b[1;33m.\u001b[0m\u001b[0mimwrite\u001b[0m\u001b[1;33m(\u001b[0m\u001b[0mjoin\u001b[0m\u001b[1;33m(\u001b[0m\u001b[0mpath_extracted\u001b[0m\u001b[1;33m,\u001b[0m \u001b[0mf\u001b[0m\u001b[1;33m)\u001b[0m\u001b[1;33m,\u001b[0m \u001b[0mwindow\u001b[0m\u001b[1;33m)\u001b[0m\u001b[1;33m\u001b[0m\u001b[1;33m\u001b[0m\u001b[0m\n",
      "\u001b[1;32m~\\AppData\\Local\\Temp\\1/ipykernel_12148/3921328754.py\u001b[0m in \u001b[0;36mrotation1\u001b[1;34m(fname)\u001b[0m\n\u001b[0;32m     32\u001b[0m     \u001b[0minfolst\u001b[0m\u001b[1;33m.\u001b[0m\u001b[0mappend\u001b[0m\u001b[1;33m(\u001b[0m\u001b[0minfo3\u001b[0m\u001b[1;33m)\u001b[0m\u001b[1;33m\u001b[0m\u001b[1;33m\u001b[0m\u001b[0m\n\u001b[0;32m     33\u001b[0m \u001b[1;33m\u001b[0m\u001b[0m\n\u001b[1;32m---> 34\u001b[1;33m     \u001b[0mscore4\u001b[0m\u001b[1;33m,\u001b[0m \u001b[0mres4\u001b[0m\u001b[1;33m,\u001b[0m \u001b[0minfo4\u001b[0m \u001b[1;33m=\u001b[0m \u001b[0mmatch1\u001b[0m\u001b[1;33m(\u001b[0m\u001b[0mimage\u001b[0m\u001b[1;33m,\u001b[0m \u001b[0mtemp3\u001b[0m\u001b[1;33m,\u001b[0m \u001b[0mslow\u001b[0m\u001b[1;33m=\u001b[0m\u001b[1;36m0.75\u001b[0m\u001b[1;33m,\u001b[0m \u001b[0mshigh\u001b[0m\u001b[1;33m=\u001b[0m\u001b[1;36m1.2\u001b[0m\u001b[1;33m)\u001b[0m\u001b[1;33m\u001b[0m\u001b[1;33m\u001b[0m\u001b[0m\n\u001b[0m\u001b[0;32m     35\u001b[0m     \u001b[0mscorelst\u001b[0m\u001b[1;33m.\u001b[0m\u001b[0mappend\u001b[0m\u001b[1;33m(\u001b[0m\u001b[0mscore4\u001b[0m\u001b[1;33m)\u001b[0m\u001b[1;33m\u001b[0m\u001b[1;33m\u001b[0m\u001b[0m\n\u001b[0;32m     36\u001b[0m     \u001b[0mreslst\u001b[0m\u001b[1;33m.\u001b[0m\u001b[0mappend\u001b[0m\u001b[1;33m(\u001b[0m\u001b[0mres4\u001b[0m\u001b[1;33m)\u001b[0m\u001b[1;33m\u001b[0m\u001b[1;33m\u001b[0m\u001b[0m\n",
      "\u001b[1;32m~\\AppData\\Local\\Temp\\1/ipykernel_12148/323721592.py\u001b[0m in \u001b[0;36mmatch1\u001b[1;34m(image, temp0, slow, shigh, method)\u001b[0m\n\u001b[0;32m     12\u001b[0m         \u001b[1;31m#     # the rotate takes angle in degrees\u001b[0m\u001b[1;33m\u001b[0m\u001b[1;33m\u001b[0m\u001b[1;33m\u001b[0m\u001b[0m\n\u001b[0;32m     13\u001b[0m             \u001b[0mimg_rot\u001b[0m \u001b[1;33m=\u001b[0m \u001b[0mrotate\u001b[0m\u001b[1;33m(\u001b[0m\u001b[0mimage1\u001b[0m\u001b[1;33m,\u001b[0m \u001b[1;36m10\u001b[0m \u001b[1;33m*\u001b[0m \u001b[0mi\u001b[0m\u001b[1;33m,\u001b[0m \u001b[0mmode\u001b[0m \u001b[1;33m=\u001b[0m \u001b[1;34m'constant'\u001b[0m\u001b[1;33m,\u001b[0m \u001b[0mreshape\u001b[0m \u001b[1;33m=\u001b[0m \u001b[1;32mFalse\u001b[0m\u001b[1;33m,\u001b[0m \u001b[0mcval\u001b[0m \u001b[1;33m=\u001b[0m \u001b[1;36m0\u001b[0m\u001b[1;33m)\u001b[0m\u001b[1;33m\u001b[0m\u001b[1;33m\u001b[0m\u001b[0m\n\u001b[1;32m---> 14\u001b[1;33m             \u001b[0mimg_rotflip\u001b[0m \u001b[1;33m=\u001b[0m \u001b[0mrotate\u001b[0m\u001b[1;33m(\u001b[0m\u001b[0mimage1_flip\u001b[0m\u001b[1;33m,\u001b[0m \u001b[1;36m10\u001b[0m \u001b[1;33m*\u001b[0m \u001b[0mi\u001b[0m\u001b[1;33m,\u001b[0m \u001b[0mmode\u001b[0m \u001b[1;33m=\u001b[0m \u001b[1;34m'constant'\u001b[0m\u001b[1;33m,\u001b[0m \u001b[0mreshape\u001b[0m \u001b[1;33m=\u001b[0m \u001b[1;32mFalse\u001b[0m\u001b[1;33m,\u001b[0m \u001b[0mcval\u001b[0m \u001b[1;33m=\u001b[0m \u001b[1;36m0\u001b[0m\u001b[1;33m)\u001b[0m\u001b[1;33m\u001b[0m\u001b[1;33m\u001b[0m\u001b[0m\n\u001b[0m\u001b[0;32m     15\u001b[0m             \u001b[0mres_rot\u001b[0m \u001b[1;33m=\u001b[0m \u001b[0mcv2\u001b[0m\u001b[1;33m.\u001b[0m\u001b[0mmatchTemplate\u001b[0m\u001b[1;33m(\u001b[0m\u001b[0mimg_rot\u001b[0m\u001b[1;33m,\u001b[0m \u001b[0mtemp\u001b[0m\u001b[1;33m,\u001b[0m \u001b[0mmethod\u001b[0m\u001b[1;33m)\u001b[0m\u001b[1;33m\u001b[0m\u001b[1;33m\u001b[0m\u001b[0m\n\u001b[0;32m     16\u001b[0m             \u001b[0mres_rotflip\u001b[0m \u001b[1;33m=\u001b[0m \u001b[0mcv2\u001b[0m\u001b[1;33m.\u001b[0m\u001b[0mmatchTemplate\u001b[0m\u001b[1;33m(\u001b[0m\u001b[0mimg_rotflip\u001b[0m\u001b[1;33m,\u001b[0m \u001b[0mtemp\u001b[0m\u001b[1;33m,\u001b[0m \u001b[0mmethod\u001b[0m\u001b[1;33m)\u001b[0m\u001b[1;33m\u001b[0m\u001b[1;33m\u001b[0m\u001b[0m\n",
      "\u001b[1;32m~\\Anaconda3\\envs\\cv\\lib\\site-packages\\scipy\\ndimage\\interpolation.py\u001b[0m in \u001b[0;36mrotate\u001b[1;34m(input, angle, axes, reshape, output, order, mode, cval, prefilter)\u001b[0m\n\u001b[0;32m    736\u001b[0m     \u001b[1;32mif\u001b[0m \u001b[0mndim\u001b[0m \u001b[1;33m<=\u001b[0m \u001b[1;36m2\u001b[0m\u001b[1;33m:\u001b[0m\u001b[1;33m\u001b[0m\u001b[1;33m\u001b[0m\u001b[0m\n\u001b[0;32m    737\u001b[0m         affine_transform(input_arr, rot_matrix, offset, output_shape, output,\n\u001b[1;32m--> 738\u001b[1;33m                          order, mode, cval, prefilter)\n\u001b[0m\u001b[0;32m    739\u001b[0m     \u001b[1;32melse\u001b[0m\u001b[1;33m:\u001b[0m\u001b[1;33m\u001b[0m\u001b[1;33m\u001b[0m\u001b[0m\n\u001b[0;32m    740\u001b[0m         \u001b[1;31m# If ndim > 2, the rotation is applied over all the planes\u001b[0m\u001b[1;33m\u001b[0m\u001b[1;33m\u001b[0m\u001b[1;33m\u001b[0m\u001b[0m\n",
      "\u001b[1;32m~\\Anaconda3\\envs\\cv\\lib\\site-packages\\scipy\\ndimage\\interpolation.py\u001b[0m in \u001b[0;36maffine_transform\u001b[1;34m(input, matrix, offset, output_shape, output, order, mode, cval, prefilter)\u001b[0m\n\u001b[0;32m    484\u001b[0m     \u001b[1;32melse\u001b[0m\u001b[1;33m:\u001b[0m\u001b[1;33m\u001b[0m\u001b[1;33m\u001b[0m\u001b[0m\n\u001b[0;32m    485\u001b[0m         _nd_image.geometric_transform(filtered, None, None, matrix, offset,\n\u001b[1;32m--> 486\u001b[1;33m                                       output, order, mode, cval, None, None)\n\u001b[0m\u001b[0;32m    487\u001b[0m     \u001b[1;32mreturn\u001b[0m \u001b[0moutput\u001b[0m\u001b[1;33m\u001b[0m\u001b[1;33m\u001b[0m\u001b[0m\n\u001b[0;32m    488\u001b[0m \u001b[1;33m\u001b[0m\u001b[0m\n",
      "\u001b[1;31mKeyboardInterrupt\u001b[0m: "
     ]
    }
   ],
   "source": [
    "test()"
   ]
  },
  {
   "cell_type": "code",
   "execution_count": null,
   "metadata": {},
   "outputs": [],
   "source": [
    "### NOTE\n",
    "# 877\n",
    "# 896 [0.92752725, 0.9330918, 0.91779184, 0.91779184] 1\n",
    "# 897 [0.9302923, 0.938535, 0.91850716, 0.91850716] 1\n",
    "# 914 [0.92993504, 0.9326193, 0.9173657, 0.9173657] 1\n",
    "# 922\n",
    "# 949\n",
    "# 959"
   ]
  }
 ],
 "metadata": {
  "kernelspec": {
   "display_name": "Python [conda env:cv] *",
   "language": "python",
   "name": "conda-env-cv-py"
  },
  "language_info": {
   "codemirror_mode": {
    "name": "ipython",
    "version": 3
   },
   "file_extension": ".py",
   "mimetype": "text/x-python",
   "name": "python",
   "nbconvert_exporter": "python",
   "pygments_lexer": "ipython3",
   "version": "3.7.11"
  }
 },
 "nbformat": 4,
 "nbformat_minor": 4
}
