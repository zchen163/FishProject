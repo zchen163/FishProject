{
 "cells": [
  {
   "cell_type": "code",
   "execution_count": 1,
   "id": "f9fca498",
   "metadata": {
    "scrolled": true
   },
   "outputs": [],
   "source": [
    "import cv2\n",
    "import numpy as np\n",
    "from scipy.ndimage import rotate\n",
    "from os import listdir\n",
    "from os.path import isfile, join\n",
    "from pathlib import Path\n",
    "import matplotlib.pyplot as plt\n",
    "# import pandas as pd"
   ]
  },
  {
   "cell_type": "code",
   "execution_count": 5,
   "id": "557400b2",
   "metadata": {
    "scrolled": true
   },
   "outputs": [],
   "source": [
    "image1 = cv2.imread('../data/templates/1.png')\n",
    "template1 = image1[20:100, 15:95]\n",
    "# cv2.imwrite(\"../data/templates/head1.png\", template1)\n",
    "\n",
    "image2 = cv2.imread('../data/templates/2.png')\n",
    "template2 = image2[20:100, 15:95]\n",
    "# cv2.imwrite(\"../data/templates/head2.png\", template2)\n",
    "\n",
    "image3 = cv2.imread('../data/templates/3.png')\n",
    "template3 = cv2.resize(image3[30:130, 10:110], (80, 80))\n",
    "# cv2.imwrite(\"../data/templates/head3.png\", template3)\n",
    "\n",
    "image4 = cv2.imread('../data/CC Lake slice/DSC00843.jpg')\n",
    "template4 = cv2.resize(cv2.flip(image4, 0)[125:225, 180:280], (80, 80))\n",
    "# cv2.imwrite(\"../data/templates/head4.png\", template4)\n",
    "\n",
    "image5 = cv2.imread('../data/CC Lake slice/DSC00849.jpg')\n",
    "template5 = cv2.resize(cv2.flip(image5, 0)[100:200, 220:320], (80, 80))\n",
    "# cv2.imwrite(\"../data/templates/head5.png\", template5)\n",
    "# plt.imshow(cv2.cvtColor(template4, cv2.COLOR_BGR2RGB))"
   ]
  },
  {
   "cell_type": "code",
   "execution_count": 6,
   "id": "0fc67dee",
   "metadata": {},
   "outputs": [],
   "source": [
    "def match(image, temp0, slow=0.8, shigh=1.21, method = cv2.TM_CCORR_NORMED): \n",
    "    img = np.copy(image)\n",
    "    best_res = None\n",
    "    best_score = 0\n",
    "    for s in np.arange(slow, shigh, 0.05):\n",
    "        temp = cv2.resize(temp0, None, fx = s, fy = s)\n",
    "        if image.shape[0] < temp.shape[0]: \n",
    "            break\n",
    "        res = cv2.matchTemplate(image, temp, method)\n",
    "        minVal, maxVal, minLoc, maxLoc = cv2.minMaxLoc(res, None)\n",
    "        if res.max() >= best_score:\n",
    "            best_score = res.max()\n",
    "            output = (best_score, maxLoc, temp, res, s)\n",
    "\n",
    "    return output"
   ]
  },
  {
   "cell_type": "code",
   "execution_count": 7,
   "id": "350c9f36",
   "metadata": {},
   "outputs": [],
   "source": [
    "def multitemp_match(image, templst): \n",
    "    tempscores = []\n",
    "    temps = []\n",
    "    Locs = []\n",
    "    scales = []\n",
    "    # output = (best_score, maxLoc, temp, res, s)\n",
    "    for temp0 in templst: \n",
    "        output = match(image, temp0, method = cv2.TM_CCORR_NORMED)\n",
    "        tempscores.append(output[0])\n",
    "        temps.append(output[2])\n",
    "        Locs.append(output[1])\n",
    "        scales.append(output[4])\n",
    "    \n",
    "    idx = np.array(tempscores).argmax()\n",
    "    score = tempscores[idx]\n",
    "    Loc = Locs[idx]\n",
    "    temp = temps[idx]\n",
    "    scale = scales[idx]\n",
    "    return score, Loc, temp, idx, scale"
   ]
  },
  {
   "cell_type": "code",
   "execution_count": 8,
   "id": "a4b85879",
   "metadata": {},
   "outputs": [],
   "source": [
    "def get_templst(): \n",
    "    temp_path = '../data/templates/'\n",
    "    temp_names = ['head1.png', 'head2.png', 'head3.png', 'head4.png', 'head5.png']\n",
    "    templst = []\n",
    "    for i in temp_names: \n",
    "        templst.append(cv2.imread(join(temp_path, i)))\n",
    "#     print(templst)\n",
    "    return templst"
   ]
  },
  {
   "cell_type": "code",
   "execution_count": 15,
   "id": "f7639b00",
   "metadata": {
    "scrolled": false
   },
   "outputs": [],
   "source": [
    "# all templates tested: \n",
    "templst = get_templst()\n",
    "\n",
    "# image = cv2.imread('../data/CC Lake extracted/5/DSC00839.jpg')\n",
    "# test multiple images\n",
    "path = \"../data/CC Lake extracted/5/\"\n",
    "onlyfiles = [f for f in listdir(path) if isfile(join(path, f))]\n",
    "\n",
    "# also flip image: \n",
    "for f in onlyfiles[10:20]:\n",
    "    image = cv2.imread(join(path, f))\n",
    "    img_in = cv2.GaussianBlur(np.copy(image), ksize = (3, 3), sigmaX = 1, borderType = cv2.BORDER_REPLICATE)\n",
    "    \n",
    "    best_score = 0\n",
    "    best_img = None\n",
    "    best_Loc, best_temp = None, None\n",
    "    best_idx, best_scale = None, None\n",
    "    left_img = cv2.flip(img_in, 0)\n",
    "    up_img = cv2.flip(img_in, 1)\n",
    "    for img in [img_in, left_img, left_img]: \n",
    "        score, Loc, temp, idx, scale = multitemp_match(img, templst)\n",
    "        if score > best_score: \n",
    "            best_score = score\n",
    "            best_img = img\n",
    "            best_Loc = Loc\n",
    "            best_temp = temp\n",
    "            best_idx = idx\n",
    "            best_scale = scale\n",
    "    print(best_score, best_idx, best_scale)\n",
    "    # image_out = cv2.rectangle(image, Loc, Loc, (0, 0, 255), 2)\n",
    "    image_out = cv2.rectangle(best_img, best_Loc, (best_Loc[0]+best_temp.shape[1], best_Loc[1]+best_temp.shape[0]), (0, 0, 255), 2)\n",
    "\n",
    "    fig, (ax2) = plt.subplots(1, 1)\n",
    "#     ax0.imshow(temp, cmap = plt.cm.gray)\n",
    "    # ax1.imshow(res, cmap = plt.cm.gray)\n",
    "    print(image_out)\n",
    "    ax2.imshow(cv2.cvtColor(image_out, cv2.COLOR_BGR2RGB)) "
   ]
  },
  {
   "cell_type": "code",
   "execution_count": 10,
   "id": "7cd4b076",
   "metadata": {},
   "outputs": [],
   "source": [
    "# mark eye landmarks on templates\n",
    "templst = get_templst()\n",
    "\n",
    "temp = templst[0]\n",
    "lm1 = [35, 41]\n",
    "lm2 = [35, 74]\n",
    "\n",
    "temp = templst[1]\n",
    "lm1 = [34, 40]\n",
    "lm2 = [34, 75]\n",
    "\n",
    "temp = templst[2]\n",
    "lm1 = [34, 41]\n",
    "lm2 = [34, 75]\n",
    "\n",
    "temp = templst[3]\n",
    "lm1 = [34, 41]\n",
    "lm2 = [34, 75]\n",
    "\n",
    "temp = templst[4]\n",
    "lm1 = [34, 40]\n",
    "lm2 = [34, 68]\n",
    "\n",
    "# plt.figure()\n",
    "# plt.imshow(temp)\n",
    "# plt.plot(lm1[1], lm1[0],  c='red', marker='o')\n",
    "# plt.plot(lm2[1], lm2[0],  c='red', marker='o')"
   ]
  },
  {
   "cell_type": "code",
   "execution_count": 12,
   "id": "901c49d6",
   "metadata": {},
   "outputs": [],
   "source": [
    "def get_eyelm(idx): \n",
    "    if idx == 0: \n",
    "        return ([35, 41], [35, 74])\n",
    "    elif idx == 1: \n",
    "        return ([34, 40], [34, 75])\n",
    "    elif idx == 2 or idx == 3: \n",
    "        return ([34, 41], [34, 75])\n",
    "    elif idx == 4: \n",
    "        return ([34, 40], [34, 68])\n",
    "    else: \n",
    "        return None"
   ]
  },
  {
   "cell_type": "code",
   "execution_count": 13,
   "id": "35e4839b",
   "metadata": {
    "scrolled": false
   },
   "outputs": [],
   "source": [
    "templst = get_templst()\n",
    "path = \"../data/CC Lake extracted/5/\"\n",
    "onlyfiles = [f for f in listdir(path) if isfile(join(path, f))]\n",
    "# also flip image: \n",
    "for f in onlyfiles[10:22]:\n",
    "    image = cv2.imread(join(path, f))\n",
    "    img_in = cv2.GaussianBlur(np.copy(image), ksize = (3, 3), sigmaX = 1, borderType = cv2.BORDER_REPLICATE)\n",
    "    \n",
    "    best_score = 0\n",
    "    best_img = None\n",
    "    best_Loc, best_temp = None, None\n",
    "    best_idx, best_scale = None, None\n",
    "    left_img = cv2.flip(img_in, 0)\n",
    "    up_img = cv2.flip(img_in, 1)\n",
    "    for img in [img_in, left_img, left_img]: \n",
    "        score, Loc, temp, idx, scale = multitemp_match(img, templst)\n",
    "        if score > best_score: \n",
    "            best_score = score\n",
    "            best_img = img\n",
    "            best_Loc = Loc\n",
    "            best_temp = temp\n",
    "            best_idx = idx\n",
    "            best_scale = scale\n",
    "    print(best_score, best_idx, best_scale)\n",
    "    # get eye landmarks\n",
    "    lm1, lm2 = get_eyelm(best_idx)\n",
    "    print(lm1, lm2)\n",
    "    # get scaled and shifted landmark, in x, y format\n",
    "    eyelm1 = (best_Loc[0]+int(lm1[1]*best_scale), best_Loc[1]+int(lm1[0]*best_scale))\n",
    "    eyelm2 = (best_Loc[0]+int(lm2[1]*best_scale), best_Loc[1]+int(lm2[0]*best_scale))\n",
    "    image_out = cv2.rectangle(best_img, best_Loc, (best_Loc[0]+best_temp.shape[1], best_Loc[1]+best_temp.shape[0]), (0, 0, 255), 2)\n",
    "    image_out = cv2.circle(image_out, eyelm1, radius=3, color=(0, 0, 255), thickness=-1)\n",
    "    image_out = cv2.circle(image_out, eyelm2, radius=3, color=(0, 0, 255), thickness=-1)\n",
    "    fig, (ax2) = plt.subplots(1, 1)\n",
    "#     ax0.imshow(temp, cmap = plt.cm.gray)\n",
    "    # ax1.imshow(res, cmap = plt.cm.gray)\n",
    "    ax2.imshow(cv2.cvtColor(image_out, cv2.COLOR_BGR2RGB)) "
   ]
  },
  {
   "cell_type": "code",
   "execution_count": 14,
   "id": "b7a434ad",
   "metadata": {},
   "outputs": [
    {
     "data": {
      "text/plain": [
       "<matplotlib.image.AxesImage at 0x25b16f8c8c8>"
      ]
     },
     "execution_count": 14,
     "metadata": {},
     "output_type": "execute_result"
    },
    {
     "data": {
      "image/png": "[encoded data removed]",
      "text/plain": [
       "<Figure size 432x288 with 4 Axes>"
      ]
     },
     "metadata": {
      "needs_background": "light"
     },
     "output_type": "display_data"
    }
   ],
   "source": [
    "# identify eyes automatically\n",
    "heads = get_templst()\n",
    "head = heads[3]\n",
    "\n",
    "\n",
    "gray = cv2.cvtColor(head, cv2.COLOR_BGR2GRAY)\n",
    "blue = head[: ,:, 0]\n",
    "green = head[: ,:, 1]\n",
    "red = head[: ,:, 2]\n",
    "hsv = cv2.cvtColor(head, cv2.COLOR_BGR2HSV)\n",
    "h = hsv[:, :, 0]\n",
    "s = hsv[:, :, 1]\n",
    "v = hsv[:, :, 2]\n",
    "\n",
    "fig, (ax0, ax1, ax2, ax3) = plt.subplots(4, 1)\n",
    "ax0.imshow(gray, cmap = plt.cm.gray)\n",
    "ax1.imshow(blue, cmap = plt.cm.gray)\n",
    "ax2.imshow(green, cmap = plt.cm.gray) \n",
    "ax3.imshow(red, cmap = plt.cm.gray) \n",
    "\n"
   ]
  },
  {
   "cell_type": "code",
   "execution_count": null,
   "id": "530124d7",
   "metadata": {},
   "outputs": [],
   "source": [
    "# find circle by dilation and erosion? \n",
    "dilation = cv2.dilate(gray, cv2.getStructuringElement(cv2.MORPH_RECT, ksize = (3, 3)))\n",
    "# plt.imshow(dilation, cmap = plt.cm.gray)\n",
    "erosion = cv2.erode(dilation, cv2.getStructuringElement(cv2.MORPH_RECT, ksize = (3, 3)))\n",
    "diff = erosion - dilation\n",
    "plt.imshow(diff, cmap=plt.cm.gray)"
   ]
  },
  {
   "cell_type": "code",
   "execution_count": null,
   "id": "01a08691",
   "metadata": {
    "scrolled": true
   },
   "outputs": [],
   "source": [
    "# find eyes by NTSC\n",
    "for head in heads: \n",
    "    RGBImage = cv2.cvtColor(np.copy(head), cv2.COLOR_BGR2RGB)\n",
    "    YIQ = np.zeros_like(head)\n",
    "    YIQ[:,:,0] = 0.299*RGBImage[:,:,0] + 0.587*RGBImage[:,:,1] + 0.114*RGBImage[:,:,2]\n",
    "    YIQ[:,:,1] = 0.596*RGBImage[:,:,0] - 0.274*RGBImage[:,:,1] - 0.322*RGBImage[:,:,2]\n",
    "    YIQ[:,:,2] = 0.211*RGBImage[:,:,0] - 0.523*RGBImage[:,:,1] + 0.312*RGBImage[:,:,2]\n",
    "    Chrom = YIQ[:, :, 1]/(255*2) + YIQ[:, :, 2]/(255*2)\n",
    "    print(Chrom.shape)\n",
    "    \n",
    "    \n",
    "    fig, (ax0, ax1, ax2, ax3, ax4) = plt.subplots(5, 1)\n",
    "    ax0.imshow(YIQ)\n",
    "    ax1.imshow(YIQ[:, :, 0], cmap=plt.cm.gray)\n",
    "    ax2.imshow(YIQ[:, :, 1], cmap=plt.cm.gray)\n",
    "    ax3.imshow(YIQ[:, :, 2], cmap=plt.cm.gray)\n",
    "    ax4.imshow(Chrom, cmap=plt.cm.gray)\n",
    "\n",
    "    \n",
    "#     plt.imshow(Chrom, cmap=plt.cm.gray)"
   ]
  },
  {
   "cell_type": "code",
   "execution_count": 21,
   "id": "f36ec8a5",
   "metadata": {},
   "outputs": [
    {
     "data": {
      "image/png": "[encoded data removed]",
      "text/plain": [
       "<Figure size 432x288 with 1 Axes>"
      ]
     },
     "metadata": {
      "needs_background": "light"
     },
     "output_type": "display_data"
    }
   ],
   "source": [
    "heads = get_templst()\n",
    "for head in heads[3:4]: \n",
    "    RGBImage = cv2.cvtColor(np.copy(head), cv2.COLOR_BGR2RGB)\n",
    "    hsv = cv2.cvtColor(np.copy(head), cv2.COLOR_BGR2HSV)\n",
    "    YIQ = np.zeros_like(head)\n",
    "    YIQ[:,:,0] = 0.299*RGBImage[:,:,0] + 0.587*RGBImage[:,:,1] + 0.114*RGBImage[:,:,2]\n",
    "    YIQ[:,:,1] = 0.596*RGBImage[:,:,0] - 0.274*RGBImage[:,:,1] - 0.322*RGBImage[:,:,2]\n",
    "    YIQ[:,:,2] = 0.211*RGBImage[:,:,0] - 0.523*RGBImage[:,:,1] + 0.312*RGBImage[:,:,2]\n",
    "    Chrom = np.uint8(YIQ[:, :, 1]/2 + YIQ[:, :, 2]/2)\n",
    "    mser = cv2.MSER_create()\n",
    "#     mser.setDelta(1)\n",
    "#     mser.setMinArea(100)\n",
    "#     mser.setMaxArea(300)\n",
    "    regions, boundingBoxes = mser.detectRegions(hsv)\n",
    "#     regions, boundingBoxes = mser.detectRegions(cv2.cvtColor(np.copy(head), cv2.COLOR_BGR2GRAY))\n",
    "#     regions, boundingBoxes = mser.detectRegions(hsv[:, :, 2])\n",
    "\n",
    "    for box in boundingBoxes:\n",
    "        x, y, w, h = box;\n",
    "#         if w/h < 1.3 and w/h > 0.8: \n",
    "        cv2.rectangle(head, (x, y), (x+w, y+h), (0, 255, 0), 1)\n",
    "    fig, (ax0) = plt.subplots(1, 1)\n",
    "    ax0.imshow(head)"
   ]
  },
  {
   "cell_type": "code",
   "execution_count": 44,
   "id": "1cbff430",
   "metadata": {},
   "outputs": [],
   "source": [
    "def filter(image):\n",
    "#     image = cv2.imread(fname)\n",
    "    hsv = cv2.cvtColor(image, cv2.COLOR_BGR2HSV)\n",
    "\n",
    "    # key is to find a binary template before findContours!\n",
    "    # one option is hsv sat (0, 70)\n",
    "    val = hsv[:, :, 2]\n",
    "#     sat = cv2.medianBlur(sat, ksize = 3)\n",
    "    vmask = cv2.inRange(cv2.medianBlur(val, ksize = 3), 40, 255)/255\n",
    "    rgbmask = cv2.inRange(image, (50, 50, 50), (255, 255, 255))/255\n",
    "    print(image.shape, vmask.shape, rgbmask.shape)\n",
    "    return vmask, rgbmask"
   ]
  },
  {
   "cell_type": "code",
   "execution_count": 63,
   "id": "b26a380a",
   "metadata": {},
   "outputs": [
    {
     "name": "stdout",
     "output_type": "stream",
     "text": [
      "(80, 80, 3) (80, 80) (80, 80)\n",
      "[[[58.5 28.5 11.8]]]\n"
     ]
    },
    {
     "data": {
      "image/png": "[encoded data removed]",
      "text/plain": [
       "<Figure size 432x288 with 2 Axes>"
      ]
     },
     "metadata": {
      "needs_background": "light"
     },
     "output_type": "display_data"
    }
   ],
   "source": [
    "heads = get_templst()\n",
    "head = heads[3]\n",
    "vmask, rgbmask = filter(head)\n",
    "# comb = (vmask + rgbmask)/2\n",
    "\n",
    "comb = np.uint8(np.minimum(vmask, rgbmask)*255)\n",
    "# print(comb)\n",
    "# m, n = comb.shape[:2]\n",
    "# # comb[:, n//5:] = 255\n",
    "comb = cv2.medianBlur(comb, 5)\n",
    "# plt.imshow(comb)\n",
    "img = np.copy(head)\n",
    "# #     comb = np.uint8((vmask + rgbmask)/2 * 255)\n",
    "circles = cv2.HoughCircles(comb, cv2.HOUGH_GRADIENT, dp = 1, minDist = 10, param1=250, param2=10, minRadius=10, maxRadius=30)\n",
    "# #     circles = np.uint16(np.around(circles))\n",
    "print(circles)\n",
    "if circles is not None:\n",
    "    for i in circles[0,:]:\n",
    "             # draw the outer circle\n",
    "        cv2.circle(img,(i[0],i[1]),i[2],(0,255,0),2)\n",
    "            # draw the center of the circle\n",
    "        cv2.circle(img,(i[0],i[1]),2,(0,0,255),3)\n",
    "        #    print(circles)\n",
    "    fig, (ax1, ax2) = plt.subplots(2, 1, sharex=True)\n",
    "    ax1.imshow(comb, cmap=plt.cm.gray)\n",
    "    ax2.imshow(img)\n",
    "\n",
    "# fig, (ax3, ax4, ax5) = plt.subplots(3, 1, sharex=True)\n",
    "# #     ax1.imshow(hsv[:, :, 0], cmap=plt.cm.gray)\n",
    "# #     ax2.imshow(hsv[:, :, 1], cmap=plt.cm.gray)\n",
    "# ax3.imshow(comb, cmap=plt.cm.gray)\n",
    "# ax4.imshow(vmask, cmap=plt.cm.gray)\n",
    "# ax5.imshow(rgbmask, cmap=plt.cm.gray)"
   ]
  },
  {
   "cell_type": "code",
   "execution_count": null,
   "id": "9a277da9",
   "metadata": {},
   "outputs": [],
   "source": []
  }
 ],
 "metadata": {
  "kernelspec": {
   "display_name": "Python [conda env:cv] *",
   "language": "python",
   "name": "conda-env-cv-py"
  },
  "language_info": {
   "codemirror_mode": {
    "name": "ipython",
    "version": 3
   },
   "file_extension": ".py",
   "mimetype": "text/x-python",
   "name": "python",
   "nbconvert_exporter": "python",
   "pygments_lexer": "ipython3",
   "version": "3.7.11"
  }
 },
 "nbformat": 4,
 "nbformat_minor": 5
}
