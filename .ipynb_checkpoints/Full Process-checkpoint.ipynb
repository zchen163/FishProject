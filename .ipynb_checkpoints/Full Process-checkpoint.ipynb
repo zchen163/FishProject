{
 "cells": [
  {
   "cell_type": "code",
   "execution_count": 1,
   "id": "3f1e6d96",
   "metadata": {},
   "outputs": [],
   "source": [
    "import cv2\n",
    "import numpy as np\n",
    "from scipy.ndimage import rotate\n",
    "from os import listdir\n",
    "from os.path import isfile, join\n",
    "from pathlib import Path\n",
    "import matplotlib.pyplot as plt\n",
    "import pandas as pd"
   ]
  },
  {
   "cell_type": "code",
   "execution_count": 3,
   "id": "934fc47e",
   "metadata": {},
   "outputs": [],
   "source": [
    "def slice(pathin, pathout):\n",
    "    # slice image and remove the ruler thing:\n",
    "    path = pathout\n",
    "    Path(path).mkdir(parents=True, exist_ok=True)\n",
    "    onlyfiles = [f for f in listdir(pathin) if isfile(join(pathin, f))]\n",
    "    # print(onlyfiles)\n",
    "    for f in onlyfiles:\n",
    "        fname = join('../data/CC Lake/', f)\n",
    "        image = cv2.resize(cv2.imread(fname), None, fx = 0.25, fy = 0.25)\n",
    "#         print(image.shape) # (918, 1224, 3)\n",
    "        sliced = image[300:650, 200:1000, :]\n",
    "        cv2.imwrite(join(path, f), sliced)"
   ]
  },
  {
   "cell_type": "code",
   "execution_count": null,
   "id": "9fe2ef4e",
   "metadata": {
    "scrolled": false
   },
   "outputs": [],
   "source": [
    "# repeat the slice process, and get a bit bigger image (was 300:600, 200:1000)\n",
    "pathin = '../data/CC Lake/'\n",
    "pathout = \"../data/CC Lake slice/2/\"\n",
    "slice(pathin, pathout)"
   ]
  },
  {
   "cell_type": "code",
   "execution_count": 53,
   "id": "398ff84b",
   "metadata": {},
   "outputs": [],
   "source": [
    "# previous matching method\n",
    "def ToBNW2(fname, fx = 1, ksize = 3): \n",
    "    image = cv2.imread(fname)\n",
    "    if fx != 1:\n",
    "        image = cv2.resize(image, None, fx = fx, fy = fx)\n",
    "    hsv = cv2.cvtColor(image, cv2.COLOR_BGR2HSV)\n",
    "    sat = hsv[:, :, 1]\n",
    "    sat = cv2.medianBlur(sat, ksize = ksize)\n",
    "    sat1 = cv2.inRange(sat, (0), (60))/255\n",
    "    rmask = cv2.inRange(image[:, :, 0], (100), (255))/255\n",
    "    # minimum\n",
    "#     out = np.minimum(1-sat1, rmask)*255\n",
    "    # mean\n",
    "    out = (np.abs(1-sat1) + rmask)*255/2\n",
    "    # soft threshold\n",
    "#     gray = cv2.cvtColor(image, cv2.COLOR_BGR2GRAY)\n",
    "#     _, out = cv2.threshold(gray, 100, 255, cv2.THRESH_TRUNC)\n",
    "#     fig, (ax2) = plt.subplots(1, 1)\n",
    "#     ax2.imshow(out, cmap = plt.cm.gray)\n",
    "    return np.uint8(out)"
   ]
  },
  {
   "cell_type": "code",
   "execution_count": 27,
   "id": "45f5ce8f",
   "metadata": {},
   "outputs": [
    {
     "data": {
      "image/png": "[encoded data removed]",
      "text/plain": [
       "<Figure size 432x288 with 1 Axes>"
      ]
     },
     "metadata": {
      "needs_background": "light"
     },
     "output_type": "display_data"
    },
    {
     "data": {
      "image/png": "[encoded data removed]",
      "text/plain": [
       "<Figure size 432x288 with 1 Axes>"
      ]
     },
     "metadata": {
      "needs_background": "light"
     },
     "output_type": "display_data"
    }
   ],
   "source": [
    "temp1 = ToBNW2('../data/templates/1.png', fx = 1, ksize = 3)\n",
    "temp1 = ToBNW2('../data/CC Lake slice/2/DSC00877.jpg', fx = 1, ksize = 5)\n"
   ]
  },
  {
   "cell_type": "code",
   "execution_count": 78,
   "id": "f3065aed",
   "metadata": {},
   "outputs": [],
   "source": [
    "def match_fish(image, temp0, slow=0.7, shigh=1.3, method = cv2.TM_CCORR_NORMED):\n",
    "    # get flipped image\n",
    "    best_match_score = 0\n",
    "    image1 = np.copy(image)\n",
    "    image1_flip = cv2.flip(image1, 1)\n",
    "    \n",
    "    # vary the template size\n",
    "    for s in np.arange(slow, shigh, 0.05):\n",
    "        temp = cv2.resize(temp0, None, fx = s, fy = s)\n",
    "        # search for image angles, or flip\n",
    "        for i in [-3, -2, -1, 0, 1, 2, 3, 15, 16, 17, 18, 19, 20, 21]:\n",
    "            img_rot = rotate(image1, 10 * i, mode = 'constant', reshape = False, cval = 0)\n",
    "            img_rotflip = rotate(image1_flip, 10 * i, mode = 'constant', reshape = False, cval = 0)\n",
    "            res_rot = cv2.matchTemplate(img_rot, temp, method)\n",
    "            res_rotflip = cv2.matchTemplate(img_rotflip, temp, method)\n",
    "            if res_rot.max() >= best_match_score:\n",
    "                best_match_score = res_rot.max()\n",
    "                res = res_rot\n",
    "                best_img = img_rot\n",
    "                info = ('rot', i, s, temp, best_img)\n",
    "            elif res_rotflip.max() >= best_match_score:\n",
    "                best_match_score = res_rotflip.max()\n",
    "                res = res_rotflip\n",
    "                best_img = img_rotflip\n",
    "                info = ('rotflip', i, s, temp, best_img)\n",
    "    return best_match_score, res, info"
   ]
  },
  {
   "cell_type": "code",
   "execution_count": 83,
   "id": "3eb2f4ea",
   "metadata": {},
   "outputs": [],
   "source": [
    "def extract(fname, offset):\n",
    "    temp1 = ToBNW2('../data/templates/1.png', fx = 1, ksize = 3)\n",
    "    temp2 = ToBNW2('../data/templates/2.png', fx = 1, ksize = 3)\n",
    "    temp3 = ToBNW2('../data/templates/3.png', fx = 1, ksize = 3)\n",
    "    temp4 = ToBNW2('../data/templates/4.png', fx = 1, ksize = 3)\n",
    "    image = ToBNW2(fname, fx = 1, ksize = 5)\n",
    "\n",
    "    H, W = image.shape[0:2]\n",
    "\n",
    "    best_match_score = 0\n",
    "    res = None\n",
    "    method = cv2.TM_CCORR_NORMED\n",
    "    \n",
    "    scorelst, reslst, infolst = [], [], []\n",
    "    score1, res1, info1 = match_fish(image, temp1, slow=0.75, shigh=1.3)\n",
    "    score2, res2, info2 = match_fish(image, temp2, slow=0.75, shigh=1.3)\n",
    "    score3, res3, info3 = match_fish(image, temp3, slow=0.75, shigh=1.2)\n",
    "    score4, res4, info4 = match_fish(image, temp3, slow=0.75, shigh=1.2)\n",
    "    # store the result\n",
    "    scorelst = [score1, score2, score3, score4]\n",
    "    reslst = [res1, res2, res3, res4]\n",
    "    infolst = [info1, info2, info3, info4]\n",
    "    # find best result\n",
    "    idx = np.array(scorelst).argmax()\n",
    "    minVal, maxVal, minLoc, maxLoc = cv2.minMaxLoc(reslst[idx], None)\n",
    "    info = infolst[idx]\n",
    "    \n",
    "    best = cv2.imread(fname)\n",
    "    if info[0] == 'rotflip':\n",
    "        best = cv2.flip(best, 1)\n",
    "    best = rotate(best, 10 * info[1], mode = 'constant', reshape = False, cval = 0)\n",
    "    # for those bad matching\n",
    "#     print(maxLoc)\n",
    "#     print(np.max(0, maxLoc[0] - 30))\n",
    "    \n",
    "    \n",
    "    maxLoc = (maxLoc[0] - offset, maxLoc[1])\n",
    "    h, w = info[3].shape[0:2]\n",
    "    window = best[maxLoc[1]:maxLoc[1]+h, maxLoc[0]:maxLoc[0]+w+offset, :]\n",
    "    # plot best image orientation\n",
    "    return best, window, maxLoc, info\n",
    "    "
   ]
  },
  {
   "cell_type": "code",
   "execution_count": 84,
   "id": "c958d539",
   "metadata": {
    "scrolled": true
   },
   "outputs": [
    {
     "name": "stdout",
     "output_type": "stream",
     "text": [
      "DSC00839.JPG (230, 90)\n",
      "DSC00840.JPG (206, 71)\n",
      "DSC00841.JPG (169, 44)\n",
      "DSC00842.JPG (180, 108)\n",
      "DSC00843.JPG (131, 153)\n",
      "DSC00844.JPG (154, 57)\n",
      "DSC00845.JPG (199, 66)\n",
      "DSC00846.JPG (55, 30)\n",
      "DSC00847.JPG (128, 111)\n",
      "DSC00848.JPG (94, 99)\n",
      "DSC00849.JPG (163, 87)\n",
      "DSC00850.JPG (176, 81)\n",
      "DSC00851.JPG (153, 157)\n",
      "DSC00852.JPG (140, 113)\n",
      "DSC00853.JPG (138, 108)\n",
      "DSC00854.JPG (169, 103)\n",
      "DSC00855.JPG (131, 90)\n",
      "DSC00856.JPG (141, 76)\n",
      "DSC00857.JPG (145, 91)\n",
      "DSC00858.JPG (148, 104)\n",
      "DSC00859.JPG (156, 123)\n",
      "DSC00860.JPG (175, 145)\n",
      "DSC00861.JPG (185, 105)\n",
      "DSC00862.JPG (244, 128)\n",
      "DSC00863.JPG (210, 89)\n",
      "DSC00864.JPG (238, 144)\n",
      "DSC00865.JPG (162, 133)\n",
      "DSC00866.JPG (220, 110)\n",
      "DSC00867.JPG (234, 118)\n",
      "DSC00868.JPG (120, 127)\n",
      "DSC00869.JPG (178, 128)\n",
      "DSC00870.JPG (194, 102)\n",
      "DSC00871.JPG (165, 112)\n",
      "DSC00872.JPG (185, 79)\n",
      "DSC00873.JPG (199, 126)\n",
      "DSC00874.JPG (181, 135)\n",
      "DSC00875.JPG (199, 118)\n",
      "DSC00876.JPG (190, 144)\n",
      "DSC00877.JPG (152, 30)\n",
      "DSC00878.JPG (180, 151)\n",
      "DSC00879.JPG (179, 100)\n",
      "DSC00880.JPG (201, 114)\n",
      "DSC00881.JPG (191, 137)\n",
      "DSC00882.JPG (261, 86)\n",
      "DSC00883.JPG (71, 57)\n",
      "DSC00884.JPG (196, 115)\n",
      "DSC00885.JPG (222, 68)\n",
      "DSC00886.JPG (125, 90)\n"
     ]
    },
    {
     "ename": "KeyboardInterrupt",
     "evalue": "",
     "output_type": "error",
     "traceback": [
      "\u001b[1;31m---------------------------------------------------------------------------\u001b[0m",
      "\u001b[1;31mKeyboardInterrupt\u001b[0m                         Traceback (most recent call last)",
      "\u001b[1;32m~\\AppData\\Local\\Temp\\2/ipykernel_7568/3323058296.py\u001b[0m in \u001b[0;36m<module>\u001b[1;34m\u001b[0m\n\u001b[0;32m      5\u001b[0m \u001b[1;31m# for f in examples:\u001b[0m\u001b[1;33m\u001b[0m\u001b[1;33m\u001b[0m\u001b[1;33m\u001b[0m\u001b[0m\n\u001b[0;32m      6\u001b[0m \u001b[1;31m#     maxLoc, best_info = rotation1(join('../data/CC Lake slice/2/', f))\u001b[0m\u001b[1;33m\u001b[0m\u001b[1;33m\u001b[0m\u001b[1;33m\u001b[0m\u001b[0m\n\u001b[1;32m----> 7\u001b[1;33m     \u001b[0mbest\u001b[0m\u001b[1;33m,\u001b[0m \u001b[0mwindow\u001b[0m\u001b[1;33m,\u001b[0m \u001b[0mmaxLoc\u001b[0m\u001b[1;33m,\u001b[0m \u001b[0mbest_info\u001b[0m \u001b[1;33m=\u001b[0m \u001b[0mextract\u001b[0m\u001b[1;33m(\u001b[0m\u001b[0mjoin\u001b[0m\u001b[1;33m(\u001b[0m\u001b[1;34m'../data/CC Lake slice/2/'\u001b[0m\u001b[1;33m,\u001b[0m \u001b[0mf\u001b[0m\u001b[1;33m)\u001b[0m\u001b[1;33m,\u001b[0m \u001b[0moffset\u001b[0m \u001b[1;33m=\u001b[0m \u001b[1;36m30\u001b[0m\u001b[1;33m)\u001b[0m\u001b[1;33m\u001b[0m\u001b[1;33m\u001b[0m\u001b[0m\n\u001b[0m\u001b[0;32m      8\u001b[0m     \u001b[0mcv2\u001b[0m\u001b[1;33m.\u001b[0m\u001b[0mimwrite\u001b[0m\u001b[1;33m(\u001b[0m\u001b[0mjoin\u001b[0m\u001b[1;33m(\u001b[0m\u001b[1;34m'../data/CC Lake oriented/10/'\u001b[0m\u001b[1;33m,\u001b[0m \u001b[0mf\u001b[0m\u001b[1;33m)\u001b[0m\u001b[1;33m,\u001b[0m \u001b[0mbest\u001b[0m\u001b[1;33m)\u001b[0m\u001b[1;33m\u001b[0m\u001b[1;33m\u001b[0m\u001b[0m\n\u001b[0;32m      9\u001b[0m     \u001b[0mcv2\u001b[0m\u001b[1;33m.\u001b[0m\u001b[0mimwrite\u001b[0m\u001b[1;33m(\u001b[0m\u001b[0mjoin\u001b[0m\u001b[1;33m(\u001b[0m\u001b[1;34m'../data/CC Lake extracted/8/'\u001b[0m\u001b[1;33m,\u001b[0m \u001b[0mf\u001b[0m\u001b[1;33m)\u001b[0m\u001b[1;33m,\u001b[0m \u001b[0mwindow\u001b[0m\u001b[1;33m)\u001b[0m\u001b[1;33m\u001b[0m\u001b[1;33m\u001b[0m\u001b[0m\n",
      "\u001b[1;32m~\\AppData\\Local\\Temp\\2/ipykernel_7568/1318565349.py\u001b[0m in \u001b[0;36mextract\u001b[1;34m(fname, offset)\u001b[0m\n\u001b[0;32m     13\u001b[0m \u001b[1;33m\u001b[0m\u001b[0m\n\u001b[0;32m     14\u001b[0m     \u001b[0mscorelst\u001b[0m\u001b[1;33m,\u001b[0m \u001b[0mreslst\u001b[0m\u001b[1;33m,\u001b[0m \u001b[0minfolst\u001b[0m \u001b[1;33m=\u001b[0m \u001b[1;33m[\u001b[0m\u001b[1;33m]\u001b[0m\u001b[1;33m,\u001b[0m \u001b[1;33m[\u001b[0m\u001b[1;33m]\u001b[0m\u001b[1;33m,\u001b[0m \u001b[1;33m[\u001b[0m\u001b[1;33m]\u001b[0m\u001b[1;33m\u001b[0m\u001b[1;33m\u001b[0m\u001b[0m\n\u001b[1;32m---> 15\u001b[1;33m     \u001b[0mscore1\u001b[0m\u001b[1;33m,\u001b[0m \u001b[0mres1\u001b[0m\u001b[1;33m,\u001b[0m \u001b[0minfo1\u001b[0m \u001b[1;33m=\u001b[0m \u001b[0mmatch_fish\u001b[0m\u001b[1;33m(\u001b[0m\u001b[0mimage\u001b[0m\u001b[1;33m,\u001b[0m \u001b[0mtemp1\u001b[0m\u001b[1;33m,\u001b[0m \u001b[0mslow\u001b[0m\u001b[1;33m=\u001b[0m\u001b[1;36m0.75\u001b[0m\u001b[1;33m,\u001b[0m \u001b[0mshigh\u001b[0m\u001b[1;33m=\u001b[0m\u001b[1;36m1.3\u001b[0m\u001b[1;33m)\u001b[0m\u001b[1;33m\u001b[0m\u001b[1;33m\u001b[0m\u001b[0m\n\u001b[0m\u001b[0;32m     16\u001b[0m     \u001b[0mscore2\u001b[0m\u001b[1;33m,\u001b[0m \u001b[0mres2\u001b[0m\u001b[1;33m,\u001b[0m \u001b[0minfo2\u001b[0m \u001b[1;33m=\u001b[0m \u001b[0mmatch_fish\u001b[0m\u001b[1;33m(\u001b[0m\u001b[0mimage\u001b[0m\u001b[1;33m,\u001b[0m \u001b[0mtemp2\u001b[0m\u001b[1;33m,\u001b[0m \u001b[0mslow\u001b[0m\u001b[1;33m=\u001b[0m\u001b[1;36m0.75\u001b[0m\u001b[1;33m,\u001b[0m \u001b[0mshigh\u001b[0m\u001b[1;33m=\u001b[0m\u001b[1;36m1.3\u001b[0m\u001b[1;33m)\u001b[0m\u001b[1;33m\u001b[0m\u001b[1;33m\u001b[0m\u001b[0m\n\u001b[0;32m     17\u001b[0m     \u001b[0mscore3\u001b[0m\u001b[1;33m,\u001b[0m \u001b[0mres3\u001b[0m\u001b[1;33m,\u001b[0m \u001b[0minfo3\u001b[0m \u001b[1;33m=\u001b[0m \u001b[0mmatch_fish\u001b[0m\u001b[1;33m(\u001b[0m\u001b[0mimage\u001b[0m\u001b[1;33m,\u001b[0m \u001b[0mtemp3\u001b[0m\u001b[1;33m,\u001b[0m \u001b[0mslow\u001b[0m\u001b[1;33m=\u001b[0m\u001b[1;36m0.75\u001b[0m\u001b[1;33m,\u001b[0m \u001b[0mshigh\u001b[0m\u001b[1;33m=\u001b[0m\u001b[1;36m1.2\u001b[0m\u001b[1;33m)\u001b[0m\u001b[1;33m\u001b[0m\u001b[1;33m\u001b[0m\u001b[0m\n",
      "\u001b[1;32m~\\AppData\\Local\\Temp\\2/ipykernel_7568/2903956374.py\u001b[0m in \u001b[0;36mmatch_fish\u001b[1;34m(image, temp0, slow, shigh, method)\u001b[0m\n\u001b[0;32m     11\u001b[0m         \u001b[1;32mfor\u001b[0m \u001b[0mi\u001b[0m \u001b[1;32min\u001b[0m \u001b[1;33m[\u001b[0m\u001b[1;33m-\u001b[0m\u001b[1;36m3\u001b[0m\u001b[1;33m,\u001b[0m \u001b[1;33m-\u001b[0m\u001b[1;36m2\u001b[0m\u001b[1;33m,\u001b[0m \u001b[1;33m-\u001b[0m\u001b[1;36m1\u001b[0m\u001b[1;33m,\u001b[0m \u001b[1;36m0\u001b[0m\u001b[1;33m,\u001b[0m \u001b[1;36m1\u001b[0m\u001b[1;33m,\u001b[0m \u001b[1;36m2\u001b[0m\u001b[1;33m,\u001b[0m \u001b[1;36m3\u001b[0m\u001b[1;33m,\u001b[0m \u001b[1;36m15\u001b[0m\u001b[1;33m,\u001b[0m \u001b[1;36m16\u001b[0m\u001b[1;33m,\u001b[0m \u001b[1;36m17\u001b[0m\u001b[1;33m,\u001b[0m \u001b[1;36m18\u001b[0m\u001b[1;33m,\u001b[0m \u001b[1;36m19\u001b[0m\u001b[1;33m,\u001b[0m \u001b[1;36m20\u001b[0m\u001b[1;33m,\u001b[0m \u001b[1;36m21\u001b[0m\u001b[1;33m]\u001b[0m\u001b[1;33m:\u001b[0m\u001b[1;33m\u001b[0m\u001b[1;33m\u001b[0m\u001b[0m\n\u001b[0;32m     12\u001b[0m             \u001b[0mimg_rot\u001b[0m \u001b[1;33m=\u001b[0m \u001b[0mrotate\u001b[0m\u001b[1;33m(\u001b[0m\u001b[0mimage1\u001b[0m\u001b[1;33m,\u001b[0m \u001b[1;36m10\u001b[0m \u001b[1;33m*\u001b[0m \u001b[0mi\u001b[0m\u001b[1;33m,\u001b[0m \u001b[0mmode\u001b[0m \u001b[1;33m=\u001b[0m \u001b[1;34m'constant'\u001b[0m\u001b[1;33m,\u001b[0m \u001b[0mreshape\u001b[0m \u001b[1;33m=\u001b[0m \u001b[1;32mFalse\u001b[0m\u001b[1;33m,\u001b[0m \u001b[0mcval\u001b[0m \u001b[1;33m=\u001b[0m \u001b[1;36m0\u001b[0m\u001b[1;33m)\u001b[0m\u001b[1;33m\u001b[0m\u001b[1;33m\u001b[0m\u001b[0m\n\u001b[1;32m---> 13\u001b[1;33m             \u001b[0mimg_rotflip\u001b[0m \u001b[1;33m=\u001b[0m \u001b[0mrotate\u001b[0m\u001b[1;33m(\u001b[0m\u001b[0mimage1_flip\u001b[0m\u001b[1;33m,\u001b[0m \u001b[1;36m10\u001b[0m \u001b[1;33m*\u001b[0m \u001b[0mi\u001b[0m\u001b[1;33m,\u001b[0m \u001b[0mmode\u001b[0m \u001b[1;33m=\u001b[0m \u001b[1;34m'constant'\u001b[0m\u001b[1;33m,\u001b[0m \u001b[0mreshape\u001b[0m \u001b[1;33m=\u001b[0m \u001b[1;32mFalse\u001b[0m\u001b[1;33m,\u001b[0m \u001b[0mcval\u001b[0m \u001b[1;33m=\u001b[0m \u001b[1;36m0\u001b[0m\u001b[1;33m)\u001b[0m\u001b[1;33m\u001b[0m\u001b[1;33m\u001b[0m\u001b[0m\n\u001b[0m\u001b[0;32m     14\u001b[0m             \u001b[0mres_rot\u001b[0m \u001b[1;33m=\u001b[0m \u001b[0mcv2\u001b[0m\u001b[1;33m.\u001b[0m\u001b[0mmatchTemplate\u001b[0m\u001b[1;33m(\u001b[0m\u001b[0mimg_rot\u001b[0m\u001b[1;33m,\u001b[0m \u001b[0mtemp\u001b[0m\u001b[1;33m,\u001b[0m \u001b[0mmethod\u001b[0m\u001b[1;33m)\u001b[0m\u001b[1;33m\u001b[0m\u001b[1;33m\u001b[0m\u001b[0m\n\u001b[0;32m     15\u001b[0m             \u001b[0mres_rotflip\u001b[0m \u001b[1;33m=\u001b[0m \u001b[0mcv2\u001b[0m\u001b[1;33m.\u001b[0m\u001b[0mmatchTemplate\u001b[0m\u001b[1;33m(\u001b[0m\u001b[0mimg_rotflip\u001b[0m\u001b[1;33m,\u001b[0m \u001b[0mtemp\u001b[0m\u001b[1;33m,\u001b[0m \u001b[0mmethod\u001b[0m\u001b[1;33m)\u001b[0m\u001b[1;33m\u001b[0m\u001b[1;33m\u001b[0m\u001b[0m\n",
      "\u001b[1;32m~\\Anaconda3\\envs\\cv\\lib\\site-packages\\scipy\\ndimage\\interpolation.py\u001b[0m in \u001b[0;36mrotate\u001b[1;34m(input, angle, axes, reshape, output, order, mode, cval, prefilter)\u001b[0m\n\u001b[0;32m    736\u001b[0m     \u001b[1;32mif\u001b[0m \u001b[0mndim\u001b[0m \u001b[1;33m<=\u001b[0m \u001b[1;36m2\u001b[0m\u001b[1;33m:\u001b[0m\u001b[1;33m\u001b[0m\u001b[1;33m\u001b[0m\u001b[0m\n\u001b[0;32m    737\u001b[0m         affine_transform(input_arr, rot_matrix, offset, output_shape, output,\n\u001b[1;32m--> 738\u001b[1;33m                          order, mode, cval, prefilter)\n\u001b[0m\u001b[0;32m    739\u001b[0m     \u001b[1;32melse\u001b[0m\u001b[1;33m:\u001b[0m\u001b[1;33m\u001b[0m\u001b[1;33m\u001b[0m\u001b[0m\n\u001b[0;32m    740\u001b[0m         \u001b[1;31m# If ndim > 2, the rotation is applied over all the planes\u001b[0m\u001b[1;33m\u001b[0m\u001b[1;33m\u001b[0m\u001b[1;33m\u001b[0m\u001b[0m\n",
      "\u001b[1;32m~\\Anaconda3\\envs\\cv\\lib\\site-packages\\scipy\\ndimage\\interpolation.py\u001b[0m in \u001b[0;36maffine_transform\u001b[1;34m(input, matrix, offset, output_shape, output, order, mode, cval, prefilter)\u001b[0m\n\u001b[0;32m    484\u001b[0m     \u001b[1;32melse\u001b[0m\u001b[1;33m:\u001b[0m\u001b[1;33m\u001b[0m\u001b[1;33m\u001b[0m\u001b[0m\n\u001b[0;32m    485\u001b[0m         _nd_image.geometric_transform(filtered, None, None, matrix, offset,\n\u001b[1;32m--> 486\u001b[1;33m                                       output, order, mode, cval, None, None)\n\u001b[0m\u001b[0;32m    487\u001b[0m     \u001b[1;32mreturn\u001b[0m \u001b[0moutput\u001b[0m\u001b[1;33m\u001b[0m\u001b[1;33m\u001b[0m\u001b[0m\n\u001b[0;32m    488\u001b[0m \u001b[1;33m\u001b[0m\u001b[0m\n",
      "\u001b[1;31mKeyboardInterrupt\u001b[0m: "
     ]
    }
   ],
   "source": [
    "onlyfiles = [f for f in listdir('../data/CC Lake slice/2/') if isfile(join('../data/CC Lake slice/2/', f))]\n",
    "# rotation1('../data/CC Lake slice/2/DSC00877.jpg')\n",
    "# examples = ['DSC00862.jpg', 'DSC00867.jpg', 'DSC00896.jpg', 'DSC00914.jpg', 'DSC00922.jpg', 'DSC00932.jpg', 'DSC00949.jpg']\n",
    "for f in onlyfiles[:]: \n",
    "# for f in examples: \n",
    "#     maxLoc, best_info = rotation1(join('../data/CC Lake slice/2/', f))\n",
    "    best, window, maxLoc, best_info = extract(join('../data/CC Lake slice/2/', f), offset = 30)\n",
    "    cv2.imwrite(join('../data/CC Lake oriented/10/', f), best)\n",
    "    cv2.imwrite(join('../data/CC Lake extracted/8/', f), window)\n",
    "    print(f, maxLoc)"
   ]
  },
  {
   "cell_type": "code",
   "execution_count": null,
   "id": "6e008dd9",
   "metadata": {},
   "outputs": [],
   "source": [
    "# notes: bad samples: 862, 867, 896, 914, 922, 932, 949"
   ]
  }
 ],
 "metadata": {
  "kernelspec": {
   "display_name": "Python [conda env:cv] *",
   "language": "python",
   "name": "conda-env-cv-py"
  },
  "language_info": {
   "codemirror_mode": {
    "name": "ipython",
    "version": 3
   },
   "file_extension": ".py",
   "mimetype": "text/x-python",
   "name": "python",
   "nbconvert_exporter": "python",
   "pygments_lexer": "ipython3",
   "version": "3.7.11"
  }
 },
 "nbformat": 4,
 "nbformat_minor": 5
}
